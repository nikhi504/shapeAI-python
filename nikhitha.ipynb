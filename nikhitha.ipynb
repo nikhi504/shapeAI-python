{
  "nbformat": 4,
  "nbformat_minor": 0,
  "metadata": {
    "colab": {
      "name": "Untitled0.ipynb",
      "provenance": [],
      "authorship_tag": "ABX9TyP78U9jUc36y4of+aQvs1zm",
      "include_colab_link": true
    },
    "kernelspec": {
      "name": "python3",
      "display_name": "Python 3"
    },
    "language_info": {
      "name": "python"
    }
  },
  "cells": [
    {
      "cell_type": "markdown",
      "metadata": {
        "id": "view-in-github",
        "colab_type": "text"
      },
      "source": [
        "<a href=\"https://colab.research.google.com/github/nikhi504/shapeAI-python/blob/main/nikhitha.ipynb\" target=\"_parent\"><img src=\"https://colab.research.google.com/assets/colab-badge.svg\" alt=\"Open In Colab\"/></a>"
      ]
    },
    {
      "cell_type": "code",
      "metadata": {
        "id": "lLV2tEL5Qdeo"
      },
      "source": [
        ""
      ],
      "execution_count": null,
      "outputs": []
    },
    {
      "cell_type": "markdown",
      "metadata": {
        "id": "G9b3NP72Qy3-"
      },
      "source": [
        "(1)To represent HASH in hexa decimal form"
      ]
    },
    {
      "cell_type": "code",
      "metadata": {
        "colab": {
          "base_uri": "https://localhost:8080/"
        },
        "id": "uEuB9diRQ3pY",
        "outputId": "a4eae587-9c8f-4f95-c5e7-d244095ec630"
      },
      "source": [
        "import hashlib \n",
        "mystring = input('Enter string to hash: ') \n",
        "hash_obj = hashlib.md5(mystring.encode()) \n",
        "print(hash_obj.hexdigest())"
      ],
      "execution_count": 1,
      "outputs": [
        {
          "output_type": "stream",
          "text": [
            "Enter string to hash: nikhi\n",
            "ccc871979b2343b8300ee2884ae4e096\n"
          ],
          "name": "stdout"
        }
      ]
    },
    {
      "cell_type": "markdown",
      "metadata": {
        "id": "JFuysl3pRBiu"
      },
      "source": [
        "To represent HASH in bytes form"
      ]
    },
    {
      "cell_type": "code",
      "metadata": {
        "colab": {
          "base_uri": "https://localhost:8080/"
        },
        "id": "We4tyFTSRExP",
        "outputId": "b1e06783-3075-4dc9-fb5e-3c2ea5bd642f"
      },
      "source": [
        "import hashlib\n",
        "hash_obj = hashlib.md5(b'Hello, Python!')\n",
        "  #To generate, sequence of bytes\n",
        "print(hash_obj.digest())"
      ],
      "execution_count": 2,
      "outputs": [
        {
          "output_type": "stream",
          "text": [
            "b'\\xa0\\xafx\\x10\\xeb_\\xcb\\x84\\xc70\\xf8Q6\\x1d\\xe0j'\n"
          ],
          "name": "stdout"
        }
      ]
    },
    {
      "cell_type": "markdown",
      "metadata": {
        "id": "W9feJIWiRJBh"
      },
      "source": [
        "Only md5 form"
      ]
    },
    {
      "cell_type": "code",
      "metadata": {
        "colab": {
          "base_uri": "https://localhost:8080/"
        },
        "id": "xAnLNmM6RMx6",
        "outputId": "d273022f-93c6-4c3b-ca29-80648762f792"
      },
      "source": [
        "print(hash_obj)"
      ],
      "execution_count": 3,
      "outputs": [
        {
          "output_type": "stream",
          "text": [
            "<md5 HASH object @ 0x7f9f609176c0>\n"
          ],
          "name": "stdout"
        }
      ]
    },
    {
      "cell_type": "markdown",
      "metadata": {
        "id": "u5MTTRxMRTi_"
      },
      "source": [
        "(2)ALGORITHM 1: hash with SHA-2"
      ]
    },
    {
      "cell_type": "code",
      "metadata": {
        "colab": {
          "base_uri": "https://localhost:8080/"
        },
        "id": "9fe0LP4ORb8z",
        "outputId": "2775e0cc-8a94-4ee7-a983-72b729fa1fef"
      },
      "source": [
        "import hashlib\n",
        "\n",
        "# encode it to bytes using UTF-8 encoding\n",
        "message = \"Some text to hash\".encode()\n",
        "print(\"SHA-256:\", hashlib.sha256(message).hexdigest())\n",
        "\n",
        "print(\"SHA-512:\", hashlib.sha512(message).hexdigest())"
      ],
      "execution_count": 4,
      "outputs": [
        {
          "output_type": "stream",
          "text": [
            "SHA-256: 7a86e0e93e6aa6cf49f19368ca7242e24640a988ac8e5508dfcede39fa53faa2\n",
            "SHA-512: 96fa772f72678c85bbd5d23b66d51d50f8f9824a0aba0ded624ab61fe8b602bf4e3611075fe13595d3e74c63c59f7d79241acc97888e9a7a5c791159c85c3ccd\n"
          ],
          "name": "stdout"
        }
      ]
    },
    {
      "cell_type": "markdown",
      "metadata": {
        "id": "azPg9V3lRghv"
      },
      "source": [
        "ALGORITHM 2: hash with SHA-3"
      ]
    },
    {
      "cell_type": "code",
      "metadata": {
        "colab": {
          "base_uri": "https://localhost:8080/"
        },
        "id": "TMrNUFWDRhQE",
        "outputId": "0ad01720-0ada-4b53-eec1-ea0d5d99084f"
      },
      "source": [
        "print(\"SHA-3-256:\", hashlib.sha3_256(message).hexdigest())\n",
        "\n",
        "print(\"SHA-3-512:\", hashlib.sha3_512(message).hexdigest())"
      ],
      "execution_count": 5,
      "outputs": [
        {
          "output_type": "stream",
          "text": [
            "SHA-3-256: d7007c1cd52f8168f22fa25ef011a5b3644bcb437efa46de34761d3340187609\n",
            "SHA-3-512: de6b4c8f7d4fd608987c123122bcc63081372d09b4bc14955bfc828335dec1246b5c6633c5b1c87d2ad2b777d713d7777819263e7ad675a3743bf2a35bc699d0\n"
          ],
          "name": "stdout"
        }
      ]
    },
    {
      "cell_type": "markdown",
      "metadata": {
        "id": "hcmEcXJvRoih"
      },
      "source": [
        "ALGORITHM 3: hash with BLAKE2"
      ]
    },
    {
      "cell_type": "code",
      "metadata": {
        "colab": {
          "base_uri": "https://localhost:8080/"
        },
        "id": "kAJ075dURpkj",
        "outputId": "5512a9d1-1b02-4822-c889-cf3de8f1545e"
      },
      "source": [
        "# 256-bit BLAKE2 (or BLAKE2s)\n",
        "print(\"BLAKE2c:\", hashlib.blake2s(message).hexdigest())\n",
        "# 512-bit BLAKE2 (or BLAKE2b)\n",
        "print(\"BLAKE2b:\", hashlib.blake2b(message).hexdigest())"
      ],
      "execution_count": 6,
      "outputs": [
        {
          "output_type": "stream",
          "text": [
            "BLAKE2c: 6889074426b5454d751547cd33ca4c64cd693f86ce69be5c951223f3af845786\n",
            "BLAKE2b: 13e2ca8f6a282f27b2022dde683490b1085b3e16a98ee77b44b25bc84a0366afe8d70a4aa47dd10e064f1f772573513d64d56e5ef646fb935c040b32f67e5ab2\n"
          ],
          "name": "stdout"
        }
      ]
    },
    {
      "cell_type": "markdown",
      "metadata": {
        "id": "6waRmQvfRvsq"
      },
      "source": [
        "(3)salting"
      ]
    },
    {
      "cell_type": "code",
      "metadata": {
        "id": "9cUI8Fp9RwYZ"
      },
      "source": [
        "import uuid\n",
        "import hashlib\n",
        "\n",
        "def hashText(text):\n",
        "    \"\"\"\n",
        "        Basic hashing function for a text using random unique salt.  \n",
        "    \"\"\"\n",
        "    salt = uuid.uuid4().hex\n",
        "    return hashlib.sha256(salt.encode() + text.encode()).hexdigest() + ':' + salt\n",
        "    \n",
        "def matchHashedText(hashedText, providedText):\n",
        "    \"\"\"\n",
        "        Check for the text in the hashed text\n",
        "    \"\"\"\n",
        "    _hashedText, salt = hashedText.split(':')\n",
        "    return _hashedText == hashlib.sha256(salt.encode() + providedText.encode()).hexdigest()"
      ],
      "execution_count": 7,
      "outputs": []
    },
    {
      "cell_type": "code",
      "metadata": {
        "colab": {
          "base_uri": "https://localhost:8080/"
        },
        "id": "nMI7SS6lR41T",
        "outputId": "df8db469-72ca-4e95-cfd9-76c1c49915a6"
      },
      "source": [
        "hashText(\"text\")\n",
        "matchHashedText(hashText(\"text\"), \"text\")"
      ],
      "execution_count": 8,
      "outputs": [
        {
          "output_type": "execute_result",
          "data": {
            "text/plain": [
              "True"
            ]
          },
          "metadata": {
            "tags": []
          },
          "execution_count": 8
        }
      ]
    },
    {
      "cell_type": "markdown",
      "metadata": {
        "id": "SzgKq_3BR7wd"
      },
      "source": [
        "(3)iterations"
      ]
    },
    {
      "cell_type": "code",
      "metadata": {
        "colab": {
          "base_uri": "https://localhost:8080/",
          "height": 36
        },
        "id": "KMygZ6YCR8i7",
        "outputId": "4a0f72fd-d5c0-41f9-b335-ab09cc1a11b9"
      },
      "source": [
        "from hashlib import blake2b, blake2s\n",
        "blake2b(digest_size=10).hexdigest()"
      ],
      "execution_count": 9,
      "outputs": [
        {
          "output_type": "execute_result",
          "data": {
            "application/vnd.google.colaboratory.intrinsic+json": {
              "type": "string"
            },
            "text/plain": [
              "'6fa1d8fcfd719046d762'"
            ]
          },
          "metadata": {
            "tags": []
          },
          "execution_count": 9
        }
      ]
    },
    {
      "cell_type": "code",
      "metadata": {
        "colab": {
          "base_uri": "https://localhost:8080/",
          "height": 36
        },
        "id": "aPKkyv99SCXy",
        "outputId": "07cd99c7-4516-4b18-9d5a-7016e5e290e3"
      },
      "source": [
        "blake2b(digest_size=11).hexdigest()"
      ],
      "execution_count": 10,
      "outputs": [
        {
          "output_type": "execute_result",
          "data": {
            "application/vnd.google.colaboratory.intrinsic+json": {
              "type": "string"
            },
            "text/plain": [
              "'eb6ec15daf9546254f0809'"
            ]
          },
          "metadata": {
            "tags": []
          },
          "execution_count": 10
        }
      ]
    },
    {
      "cell_type": "code",
      "metadata": {
        "colab": {
          "base_uri": "https://localhost:8080/",
          "height": 36
        },
        "id": "SyYXftYySFWR",
        "outputId": "9fc44bdc-4157-4d7b-9e13-4df36f09ee0c"
      },
      "source": [
        "blake2s(digest_size=10).hexdigest()"
      ],
      "execution_count": 11,
      "outputs": [
        {
          "output_type": "execute_result",
          "data": {
            "application/vnd.google.colaboratory.intrinsic+json": {
              "type": "string"
            },
            "text/plain": [
              "'1bf21a98c78a1c376ae9'"
            ]
          },
          "metadata": {
            "tags": []
          },
          "execution_count": 11
        }
      ]
    },
    {
      "cell_type": "code",
      "metadata": {
        "colab": {
          "base_uri": "https://localhost:8080/",
          "height": 36
        },
        "id": "olwIIWIoSIfb",
        "outputId": "4d086360-312e-47d6-8815-0e07de03383e"
      },
      "source": [
        "blake2s(digest_size=11).hexdigest()"
      ],
      "execution_count": 12,
      "outputs": [
        {
          "output_type": "execute_result",
          "data": {
            "application/vnd.google.colaboratory.intrinsic+json": {
              "type": "string"
            },
            "text/plain": [
              "'567004bf96e4a25773ebf4'"
            ]
          },
          "metadata": {
            "tags": []
          },
          "execution_count": 12
        }
      ]
    }
  ]
}